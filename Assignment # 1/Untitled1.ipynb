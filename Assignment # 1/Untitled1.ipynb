{
 "cells": [
  {
   "cell_type": "code",
   "execution_count": 1,
   "id": "09b08964",
   "metadata": {},
   "outputs": [
    {
     "name": "stdout",
     "output_type": "stream",
     "text": [
      "Allow to ride\n"
     ]
    }
   ],
   "source": [
    "age = 14;\n",
    "gender = \"male\";\n",
    "if age > 18 or gender == \"male\":\n",
    "    print(\"Allow to ride\");\n",
    "else:\n",
    "    print(\"Rok lo\");"
   ]
  },
  {
   "cell_type": "code",
   "execution_count": 3,
   "id": "bb891b5a",
   "metadata": {},
   "outputs": [
    {
     "name": "stdout",
     "output_type": "stream",
     "text": [
      "Allow to ride\n"
     ]
    }
   ],
   "source": [
    "age = 14;\n",
    "gender = \"female\";\n",
    "if age > 10 or gender == \"male\":\n",
    "    print(\"Allow to ride\");\n",
    "else:\n",
    "    print(\"Rok lo\");"
   ]
  },
  {
   "cell_type": "code",
   "execution_count": 11,
   "id": "90f1df96",
   "metadata": {},
   "outputs": [
    {
     "name": "stdout",
     "output_type": "stream",
     "text": [
      "Grade A\n"
     ]
    }
   ],
   "source": [
    "eng = 65;\n",
    "isl = 75;\n",
    "maths = 95;\n",
    "total = 300;\n",
    "percentage = (eng+isl+maths)/total*100;\n",
    "if percentage <100 and percentage >80:\n",
    "    print(\"Grade A+\");\n",
    "elif percentage <=80 and percentage >70:\n",
    "    print(\"Grade A\");\n",
    "elif percentage <=70 and percentage >60:\n",
    "    print(\"Grade B\");\n",
    "elif percentage <=60 and percentage >50:\n",
    "    print(\"Grade C\");\n",
    "else:\n",
    "    print(\"Fail\");"
   ]
  },
  {
   "cell_type": "code",
   "execution_count": 12,
   "id": "3b65c6dc",
   "metadata": {},
   "outputs": [
    {
     "name": "stdout",
     "output_type": "stream",
     "text": [
      "enter value65\n",
      "enter value87\n",
      "enter value92\n"
     ]
    },
    {
     "ename": "TypeError",
     "evalue": "unsupported operand type(s) for /: 'str' and 'int'",
     "output_type": "error",
     "traceback": [
      "\u001b[1;31m---------------------------------------------------------------------------\u001b[0m",
      "\u001b[1;31mTypeError\u001b[0m                                 Traceback (most recent call last)",
      "\u001b[1;32m<ipython-input-12-1f1936074797>\u001b[0m in \u001b[0;36m<module>\u001b[1;34m\u001b[0m\n\u001b[0;32m      3\u001b[0m \u001b[0mmaths\u001b[0m \u001b[1;33m=\u001b[0m \u001b[0minput\u001b[0m\u001b[1;33m(\u001b[0m\u001b[1;34m\"enter value\"\u001b[0m\u001b[1;33m)\u001b[0m\u001b[1;33m;\u001b[0m\u001b[1;33m\u001b[0m\u001b[1;33m\u001b[0m\u001b[0m\n\u001b[0;32m      4\u001b[0m \u001b[0mtotal\u001b[0m \u001b[1;33m=\u001b[0m \u001b[1;36m300\u001b[0m\u001b[1;33m;\u001b[0m\u001b[1;33m\u001b[0m\u001b[1;33m\u001b[0m\u001b[0m\n\u001b[1;32m----> 5\u001b[1;33m \u001b[0mpercentage\u001b[0m \u001b[1;33m=\u001b[0m \u001b[1;33m(\u001b[0m\u001b[0meng\u001b[0m\u001b[1;33m+\u001b[0m\u001b[0misl\u001b[0m\u001b[1;33m+\u001b[0m\u001b[0mmaths\u001b[0m\u001b[1;33m)\u001b[0m\u001b[1;33m/\u001b[0m\u001b[0mtotal\u001b[0m\u001b[1;33m*\u001b[0m\u001b[1;36m100\u001b[0m\u001b[1;33m;\u001b[0m\u001b[1;33m\u001b[0m\u001b[1;33m\u001b[0m\u001b[0m\n\u001b[0m\u001b[0;32m      6\u001b[0m \u001b[1;32mif\u001b[0m \u001b[0mpercentage\u001b[0m \u001b[1;33m<\u001b[0m\u001b[1;36m100\u001b[0m \u001b[1;32mand\u001b[0m \u001b[0mpercentage\u001b[0m \u001b[1;33m>\u001b[0m\u001b[1;36m80\u001b[0m\u001b[1;33m:\u001b[0m\u001b[1;33m\u001b[0m\u001b[1;33m\u001b[0m\u001b[0m\n\u001b[0;32m      7\u001b[0m     \u001b[0mprint\u001b[0m\u001b[1;33m(\u001b[0m\u001b[1;34m\"Grade A+\"\u001b[0m\u001b[1;33m)\u001b[0m\u001b[1;33m;\u001b[0m\u001b[1;33m\u001b[0m\u001b[1;33m\u001b[0m\u001b[0m\n",
      "\u001b[1;31mTypeError\u001b[0m: unsupported operand type(s) for /: 'str' and 'int'"
     ]
    }
   ],
   "source": [
    "eng = input(\"enter value\");\n",
    "isl = input(\"enter value\");\n",
    "maths = input(\"enter value\");\n",
    "total = 300;\n",
    "percentage = (eng+isl+maths)/total*100;\n",
    "if percentage <100 and percentage >80:\n",
    "    print(\"Grade A+\");\n",
    "elif percentage <=80 and percentage >70:\n",
    "    print(\"Grade A\");\n",
    "elif percentage <=70 and percentage >60:\n",
    "    print(\"Grade B\");\n",
    "elif percentage <=60 and percentage >50:\n",
    "    print(\"Grade C\");\n",
    "else:\n",
    "    print(\"Fail\");"
   ]
  },
  {
   "cell_type": "code",
   "execution_count": 13,
   "id": "6a7b31a6",
   "metadata": {},
   "outputs": [
    {
     "name": "stdout",
     "output_type": "stream",
     "text": [
      "enter eng marks65\n",
      "enter isl marks82\n",
      "enter maths marks98\n",
      "Grade A+\n"
     ]
    }
   ],
   "source": [
    "eng = int(input(\"enter eng marks\"));\n",
    "isl = int(input(\"enter isl marks\"));\n",
    "maths = int(input(\"enter maths marks\"));\n",
    "total = 300;\n",
    "percentage = (eng+isl+maths)/total*100;\n",
    "if percentage <100 and percentage >80:\n",
    "    print(\"Grade A+\");\n",
    "elif percentage <=80 and percentage >70:\n",
    "    print(\"Grade A\");\n",
    "elif percentage <=70 and percentage >60:\n",
    "    print(\"Grade B\");\n",
    "elif percentage <=60 and percentage >50:\n",
    "    print(\"Grade C\");\n",
    "else:\n",
    "    print(\"Fail\");"
   ]
  },
  {
   "cell_type": "code",
   "execution_count": 14,
   "id": "72447591",
   "metadata": {},
   "outputs": [
    {
     "name": "stdout",
     "output_type": "stream",
     "text": [
      "enter eng marks95\n"
     ]
    },
    {
     "ename": "TypeError",
     "evalue": "can only concatenate str (not \"int\") to str",
     "output_type": "error",
     "traceback": [
      "\u001b[1;31m---------------------------------------------------------------------------\u001b[0m",
      "\u001b[1;31mTypeError\u001b[0m                                 Traceback (most recent call last)",
      "\u001b[1;32m<ipython-input-14-a5011d4d2ff5>\u001b[0m in \u001b[0;36m<module>\u001b[1;34m\u001b[0m\n\u001b[0;32m      1\u001b[0m \u001b[0meng\u001b[0m \u001b[1;33m=\u001b[0m \u001b[0minput\u001b[0m\u001b[1;33m(\u001b[0m\u001b[1;34m\"enter eng marks\"\u001b[0m\u001b[1;33m)\u001b[0m\u001b[1;33m;\u001b[0m\u001b[1;33m\u001b[0m\u001b[1;33m\u001b[0m\u001b[0m\n\u001b[0;32m      2\u001b[0m \u001b[0misl\u001b[0m \u001b[1;33m=\u001b[0m \u001b[1;36m87\u001b[0m\u001b[1;33m;\u001b[0m\u001b[1;33m\u001b[0m\u001b[1;33m\u001b[0m\u001b[0m\n\u001b[1;32m----> 3\u001b[1;33m \u001b[0mtotal\u001b[0m \u001b[1;33m=\u001b[0m \u001b[0meng\u001b[0m \u001b[1;33m+\u001b[0m \u001b[0misl\u001b[0m\u001b[1;33m;\u001b[0m\u001b[1;33m\u001b[0m\u001b[1;33m\u001b[0m\u001b[0m\n\u001b[0m\u001b[0;32m      4\u001b[0m \u001b[0mprint\u001b[0m\u001b[1;33m(\u001b[0m\u001b[0mtotal\u001b[0m\u001b[1;33m)\u001b[0m\u001b[1;33m;\u001b[0m\u001b[1;33m\u001b[0m\u001b[1;33m\u001b[0m\u001b[0m\n",
      "\u001b[1;31mTypeError\u001b[0m: can only concatenate str (not \"int\") to str"
     ]
    }
   ],
   "source": [
    "eng = input(\"enter eng marks\");\n",
    "isl = 87;\n",
    "total = eng + isl;\n",
    "print(total);\n"
   ]
  },
  {
   "cell_type": "code",
   "execution_count": 17,
   "id": "5bfb4e4a",
   "metadata": {},
   "outputs": [
    {
     "name": "stdout",
     "output_type": "stream",
     "text": [
      "enter eng marks45\n",
      "132\n"
     ]
    }
   ],
   "source": [
    "eng = input(\"enter eng marks\");\n",
    "isl = 87;\n",
    "total = int(eng) + isl;\n",
    "print(total);"
   ]
  },
  {
   "cell_type": "code",
   "execution_count": 18,
   "id": "cfca10f6",
   "metadata": {},
   "outputs": [
    {
     "name": "stdout",
     "output_type": "stream",
     "text": [
      "9\n"
     ]
    }
   ],
   "source": [
    "x = 3**2\n",
    "print(x);"
   ]
  },
  {
   "cell_type": "code",
   "execution_count": 20,
   "id": "2e64f87e",
   "metadata": {},
   "outputs": [
    {
     "name": "stdout",
     "output_type": "stream",
     "text": [
      "81\n"
     ]
    }
   ],
   "source": [
    "x = 3**4;\n",
    "print(x);"
   ]
  },
  {
   "cell_type": "code",
   "execution_count": 21,
   "id": "3f224856",
   "metadata": {},
   "outputs": [
    {
     "name": "stdout",
     "output_type": "stream",
     "text": [
      "Hello\n",
      "World\n"
     ]
    }
   ],
   "source": [
    "print(\"Hello\\nWorld\");"
   ]
  },
  {
   "cell_type": "code",
   "execution_count": 28,
   "id": "421e94ba",
   "metadata": {},
   "outputs": [
    {
     "name": "stdout",
     "output_type": "stream",
     "text": [
      "True\n"
     ]
    }
   ],
   "source": [
    "x = 10;\n",
    "y = 8;\n",
    "a = 30;\n",
    "b = 12;\n",
    "if x+y == a-b:\n",
    "    print(True);\n",
    "else:\n",
    "    print(False);"
   ]
  },
  {
   "cell_type": "code",
   "execution_count": 30,
   "id": "d01b63dc",
   "metadata": {},
   "outputs": [
    {
     "name": "stdout",
     "output_type": "stream",
     "text": [
      "Enter your age19\n",
      "Please enter your gendermale\n",
      "Allow\n"
     ]
    }
   ],
   "source": [
    "age = int(input(\"Enter your age: \"));\n",
    "gender = input(\"Please enter your gender: \");\n",
    "if age >18 and gender == \"male\":\n",
    "    print(\"Allow\");\n",
    "elif age >21 and gender == \"female\":\n",
    "    print(\"Allow\");\n",
    "else:\n",
    "    print(\"Do not Allow\");"
   ]
  },
  {
   "cell_type": "code",
   "execution_count": 31,
   "id": "967572a3",
   "metadata": {},
   "outputs": [
    {
     "name": "stdout",
     "output_type": "stream",
     "text": [
      "Enter your age17\n",
      "Please enter your gendermale\n",
      "Do not Allow\n"
     ]
    }
   ],
   "source": [
    "age = int(input(\"Enter your age\"));\n",
    "gender = input(\"Please enter your gender\");\n",
    "if age >18 and gender == \"male\":\n",
    "    print(\"Allow\");\n",
    "elif age >21 and gender == \"female\":\n",
    "    print(\"Allow\");\n",
    "else:\n",
    "    print(\"Do not Allow\");"
   ]
  },
  {
   "cell_type": "code",
   "execution_count": 32,
   "id": "b516eab6",
   "metadata": {},
   "outputs": [
    {
     "name": "stdout",
     "output_type": "stream",
     "text": [
      "Enter your age19\n",
      "Please enter your genderfemale\n",
      "Do not Allow\n"
     ]
    }
   ],
   "source": [
    "age = int(input(\"Enter your age\"));\n",
    "gender = input(\"Please enter your gender\");\n",
    "if age >18 and gender == \"male\":\n",
    "    print(\"Allow\");\n",
    "elif age >21 and gender == \"female\":\n",
    "    print(\"Allow\");\n",
    "else:\n",
    "    print(\"Do not Allow\");"
   ]
  },
  {
   "cell_type": "code",
   "execution_count": 33,
   "id": "a5b782af",
   "metadata": {},
   "outputs": [
    {
     "name": "stdout",
     "output_type": "stream",
     "text": [
      "Enter your age: 22\n",
      "Please enter your gender: female\n",
      "Allow\n"
     ]
    }
   ],
   "source": [
    "age = int(input(\"Enter your age: \"));\n",
    "gender = input(\"Please enter your gender: \");\n",
    "if age >18 and gender == \"male\":\n",
    "    print(\"Allow\");\n",
    "elif age >21 and gender == \"female\":\n",
    "    print(\"Allow\");\n",
    "else:\n",
    "    print(\"Do not Allow\");"
   ]
  },
  {
   "cell_type": "code",
   "execution_count": 35,
   "id": "c3d5644b",
   "metadata": {},
   "outputs": [
    {
     "name": "stdout",
     "output_type": "stream",
     "text": [
      "Enter your age: 18\n",
      "Please enter your gender: male\n",
      "Allow\n"
     ]
    }
   ],
   "source": [
    "age = int(input(\"Enter your age: \"));\n",
    "gender = input(\"Please enter your gender: \");\n",
    "if age >=18 and gender == \"male\":\n",
    "    print(\"Allow\");\n",
    "elif age >=21 and gender == \"female\":\n",
    "    print(\"Allow\");\n",
    "else:\n",
    "    print(\"Do not Allow\");"
   ]
  },
  {
   "cell_type": "code",
   "execution_count": 39,
   "id": "581b4e29",
   "metadata": {},
   "outputs": [
    {
     "name": "stdout",
     "output_type": "stream",
     "text": [
      "Enter your age: 18\n",
      "Please enter your gender: female\n",
      "Do not Allow\n"
     ]
    }
   ],
   "source": [
    "age = int(input(\"Enter your age: \"));\n",
    "gender = input(\"Please enter your gender: \");\n",
    "if age >=18 and gender == \"male\":\n",
    "    print(\"Allow\");\n",
    "elif age >=21 and gender == \"female\":\n",
    "    print(\"Allow\");\n",
    "else:\n",
    "    print(\"Do not Allow\");"
   ]
  },
  {
   "cell_type": "code",
   "execution_count": 40,
   "id": "651fdfde",
   "metadata": {},
   "outputs": [
    {
     "name": "stdout",
     "output_type": "stream",
     "text": [
      "25\n"
     ]
    }
   ],
   "source": [
    "# I am learning python\n",
    "a = 25;\n",
    "print(a);"
   ]
  },
  {
   "cell_type": "code",
   "execution_count": 41,
   "id": "67fd1f37",
   "metadata": {},
   "outputs": [
    {
     "name": "stdout",
     "output_type": "stream",
     "text": [
      "45\n"
     ]
    }
   ],
   "source": [
    "\"\"\"I am learning python,\n",
    "python is very interesting\"\"\"\n",
    "b = 45;\n",
    "print(b);"
   ]
  },
  {
   "cell_type": "code",
   "execution_count": 42,
   "id": "3b04ac54",
   "metadata": {},
   "outputs": [
    {
     "name": "stdout",
     "output_type": "stream",
     "text": [
      "[12, 89]\n"
     ]
    }
   ],
   "source": [
    "arr = [12, 89];\n",
    "print(arr);"
   ]
  },
  {
   "cell_type": "code",
   "execution_count": 43,
   "id": "68e2c2f0",
   "metadata": {},
   "outputs": [
    {
     "name": "stdout",
     "output_type": "stream",
     "text": [
      "['junaid', 'Hassan', 'Hussain']\n"
     ]
    }
   ],
   "source": [
    "#in python array is called a list\n",
    "name = [\"junaid\", \"Hassan\", \"Hussain\"];\n",
    "print(name);"
   ]
  },
  {
   "cell_type": "code",
   "execution_count": 44,
   "id": "9b9691b5",
   "metadata": {},
   "outputs": [
    {
     "name": "stdout",
     "output_type": "stream",
     "text": [
      "Hassan\n"
     ]
    }
   ],
   "source": [
    "print(name[1]);"
   ]
  },
  {
   "cell_type": "code",
   "execution_count": 45,
   "id": "bd43dd29",
   "metadata": {},
   "outputs": [
    {
     "name": "stdout",
     "output_type": "stream",
     "text": [
      "Hussain\n"
     ]
    }
   ],
   "source": [
    "print(name[2]);"
   ]
  },
  {
   "cell_type": "code",
   "execution_count": 46,
   "id": "9ee4af79",
   "metadata": {},
   "outputs": [
    {
     "name": "stdout",
     "output_type": "stream",
     "text": [
      "['Junaid Saleem', 'Hassan', 'Hussain']\n"
     ]
    }
   ],
   "source": [
    "name[0]= \"Junaid Saleem\";\n",
    "print(name);"
   ]
  },
  {
   "cell_type": "code",
   "execution_count": 47,
   "id": "ea8e80ea",
   "metadata": {},
   "outputs": [
    {
     "name": "stdout",
     "output_type": "stream",
     "text": [
      "['Junaid Saleem', 'Hassan', 'Hussain', 'iqra']\n"
     ]
    }
   ],
   "source": [
    "name.append(\"iqra\");\n",
    "print(name);"
   ]
  },
  {
   "cell_type": "code",
   "execution_count": 48,
   "id": "c41d9615",
   "metadata": {},
   "outputs": [
    {
     "name": "stdout",
     "output_type": "stream",
     "text": [
      "['junaid', 22, True, 5.89]\n"
     ]
    }
   ],
   "source": [
    "arr = [\"junaid\", 22, True, 5.89];\n",
    "print(arr);"
   ]
  },
  {
   "cell_type": "code",
   "execution_count": 49,
   "id": "03a284e5",
   "metadata": {},
   "outputs": [
    {
     "data": {
      "text/plain": [
       "['junaid', 22, True, 5.89]"
      ]
     },
     "execution_count": 49,
     "metadata": {},
     "output_type": "execute_result"
    }
   ],
   "source": [
    "arr\n"
   ]
  },
  {
   "cell_type": "code",
   "execution_count": 50,
   "id": "b872bdc5",
   "metadata": {},
   "outputs": [
    {
     "name": "stdout",
     "output_type": "stream",
     "text": [
      "['junaid', 22, True, 5.89, 'Junaid Saleem', 'Hassan', 'Hussain', 'iqra']\n"
     ]
    }
   ],
   "source": [
    "newList = arr + name;\n",
    "print(newList);"
   ]
  },
  {
   "cell_type": "code",
   "execution_count": 51,
   "id": "6365f4a4",
   "metadata": {},
   "outputs": [
    {
     "data": {
      "text/plain": [
       "['Junaid Saleem', 'Hassan', 'Hussain', 'iqra']"
      ]
     },
     "execution_count": 51,
     "metadata": {},
     "output_type": "execute_result"
    }
   ],
   "source": [
    "name\n"
   ]
  },
  {
   "cell_type": "code",
   "execution_count": 52,
   "id": "6843d750",
   "metadata": {},
   "outputs": [
    {
     "name": "stdout",
     "output_type": "stream",
     "text": [
      "['Junaid Saleem', 'Hassan', 'Muhammad Hussain', 'Hussain', 'iqra']\n"
     ]
    }
   ],
   "source": [
    "name.insert(2, \"Muhammad Hussain\");\n",
    "print(name);"
   ]
  },
  {
   "cell_type": "code",
   "execution_count": 56,
   "id": "2d430ac1",
   "metadata": {},
   "outputs": [
    {
     "name": "stdout",
     "output_type": "stream",
     "text": [
      "['Junaid Saleem', 'Hassan', 'Muhammad Hussain', 'Hussain', 'iqra']\n"
     ]
    }
   ],
   "source": [
    "name = ['Junaid Saleem', 'Hassan', 'Muhammad Hussain', 'Hussain', 'iqra'];\n",
    "print(name);\n"
   ]
  },
  {
   "cell_type": "code",
   "execution_count": 59,
   "id": "3073ceda",
   "metadata": {},
   "outputs": [
    {
     "name": "stdout",
     "output_type": "stream",
     "text": [
      "['Junaid Saleem', 'Hassan', 'Muhammad Hussain', 'Hussain']\n"
     ]
    }
   ],
   "source": [
    "name2 = name[0:4];\n",
    "print(name2);"
   ]
  },
  {
   "cell_type": "code",
   "execution_count": 60,
   "id": "91be990c",
   "metadata": {},
   "outputs": [
    {
     "name": "stdout",
     "output_type": "stream",
     "text": [
      "['Junaid Saleem', 'Hassan', 'Muhammad Hussain', 'iqra']\n"
     ]
    }
   ],
   "source": [
    "del name[3];\n",
    "print(name);"
   ]
  },
  {
   "cell_type": "code",
   "execution_count": 62,
   "id": "9d6d3f36",
   "metadata": {},
   "outputs": [
    {
     "name": "stdout",
     "output_type": "stream",
     "text": [
      "['Junaid Saleem', 'Hassan', 'Muhammad Hussain']\n"
     ]
    }
   ],
   "source": [
    "name.remove(\"iqra\");\n",
    "print(name);"
   ]
  },
  {
   "cell_type": "code",
   "execution_count": 63,
   "id": "59ca26ee",
   "metadata": {},
   "outputs": [
    {
     "name": "stdout",
     "output_type": "stream",
     "text": [
      "['Junaid Saleem', 'Hassan', 'Muhammad Hussain', 'iqra']\n"
     ]
    }
   ],
   "source": [
    "name.append(\"iqra\");\n",
    "print(name);"
   ]
  },
  {
   "cell_type": "code",
   "execution_count": 4,
   "id": "95bd6c27",
   "metadata": {},
   "outputs": [
    {
     "name": "stdout",
     "output_type": "stream",
     "text": [
      "['Junaid Saleem', 'Hassan', 'Muhammad Hussain', 'Hussain', 'iqra']\n"
     ]
    }
   ],
   "source": [
    "name = ['Junaid Saleem', 'Hassan', 'Muhammad Hussain', 'Hussain', 'iqra'];\n",
    "print(name);"
   ]
  },
  {
   "cell_type": "code",
   "execution_count": 5,
   "id": "7ee915c7",
   "metadata": {},
   "outputs": [
    {
     "data": {
      "text/plain": [
       "['Junaid Saleem', 'Hassan', 'Muhammad Hussain', 'Hussain', 'iqra']"
      ]
     },
     "execution_count": 5,
     "metadata": {},
     "output_type": "execute_result"
    }
   ],
   "source": [
    "name"
   ]
  },
  {
   "cell_type": "code",
   "execution_count": 6,
   "id": "56dbb330",
   "metadata": {},
   "outputs": [
    {
     "data": {
      "text/plain": [
       "['Junaid Saleem', 'Hassan', 'Muhammad Hussain', 'Hussain']"
      ]
     },
     "execution_count": 6,
     "metadata": {},
     "output_type": "execute_result"
    }
   ],
   "source": [
    "name.pop();\n",
    "name"
   ]
  },
  {
   "cell_type": "code",
   "execution_count": 7,
   "id": "9ac2390a",
   "metadata": {},
   "outputs": [
    {
     "data": {
      "text/plain": [
       "['junaid', 'Hassan', 'Muhammad Hussain', 'Hussain']"
      ]
     },
     "execution_count": 7,
     "metadata": {},
     "output_type": "execute_result"
    }
   ],
   "source": [
    "name[0]= \"junaid\";\n",
    "name"
   ]
  },
  {
   "cell_type": "code",
   "execution_count": null,
   "id": "87bdbfab",
   "metadata": {},
   "outputs": [],
   "source": []
  }
 ],
 "metadata": {
  "kernelspec": {
   "display_name": "Python 3",
   "language": "python",
   "name": "python3"
  },
  "language_info": {
   "codemirror_mode": {
    "name": "ipython",
    "version": 3
   },
   "file_extension": ".py",
   "mimetype": "text/x-python",
   "name": "python",
   "nbconvert_exporter": "python",
   "pygments_lexer": "ipython3",
   "version": "3.8.8"
  }
 },
 "nbformat": 4,
 "nbformat_minor": 5
}
